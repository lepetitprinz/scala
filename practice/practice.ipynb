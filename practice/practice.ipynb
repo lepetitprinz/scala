{
 "cells": [
  {
   "cell_type": "markdown",
   "id": "1bd12909",
   "metadata": {},
   "source": [
    "### Ch4. Classes and Object"
   ]
  },
  {
   "cell_type": "code",
   "execution_count": 1,
   "id": "d155d1ac",
   "metadata": {},
   "outputs": [
    {
     "data": {
      "text/plain": [
       "defined \u001b[32mclass\u001b[39m \u001b[36mChecksumAccumulator\u001b[39m"
      ]
     },
     "execution_count": 1,
     "metadata": {},
     "output_type": "execute_result"
    }
   ],
   "source": [
    "class ChecksumAccumulator:\n",
    "  var sum = 0"
   ]
  },
  {
   "cell_type": "code",
   "execution_count": 4,
   "id": "709f2d5a",
   "metadata": {},
   "outputs": [
    {
     "data": {
      "text/plain": [
       "\u001b[36macc\u001b[39m: \u001b[32mChecksumAccumulator\u001b[39m = ammonite.$sess.cmd0$Helper$ChecksumAccumulator@6707e14e\n",
       "\u001b[36mcsa\u001b[39m: \u001b[32mChecksumAccumulator\u001b[39m = ammonite.$sess.cmd0$Helper$ChecksumAccumulator@65fbeaef"
      ]
     },
     "execution_count": 4,
     "metadata": {},
     "output_type": "execute_result"
    }
   ],
   "source": [
    "val acc = new ChecksumAccumulator\n",
    "val csa = new ChecksumAccumulator"
   ]
  },
  {
   "cell_type": "code",
   "execution_count": 7,
   "id": "f35ab5ef",
   "metadata": {},
   "outputs": [],
   "source": [
    "acc.sum = 3"
   ]
  },
  {
   "cell_type": "code",
   "execution_count": 8,
   "id": "ce66fca4",
   "metadata": {},
   "outputs": [
    {
     "data": {
      "text/plain": [
       "\u001b[36mres7_0\u001b[39m: \u001b[32mInt\u001b[39m = \u001b[32m3\u001b[39m\n",
       "\u001b[36mres7_1\u001b[39m: \u001b[32mInt\u001b[39m = \u001b[32m0\u001b[39m"
      ]
     },
     "execution_count": 8,
     "metadata": {},
     "output_type": "execute_result"
    }
   ],
   "source": [
    "acc.sum\n",
    "csa.sum"
   ]
  },
  {
   "cell_type": "code",
   "execution_count": 8,
   "id": "0aa0ec6d",
   "metadata": {
    "scrolled": false
   },
   "outputs": [
    {
     "name": "stderr",
     "output_type": "stream",
     "text": [
      "    |val res8 = acc = new ChecksumAccumulator\n",
      "    |           ^^^^^^^^^^^^^^^^^^^^^^^^^^^^^\n",
      "    |           Reassignment to val accCompilation Failed"
     ]
    },
    {
     "ename": "",
     "evalue": "",
     "output_type": "error",
     "traceback": [
      "Compilation Failed"
     ]
    }
   ],
   "source": [
    "acc = new ChecksumAccumulator"
   ]
  },
  {
   "cell_type": "code",
   "execution_count": 9,
   "id": "49cd08e1",
   "metadata": {},
   "outputs": [
    {
     "data": {
      "text/plain": [
       "defined \u001b[32mclass\u001b[39m \u001b[36mChecksumAccumulator\u001b[39m"
      ]
     },
     "execution_count": 9,
     "metadata": {},
     "output_type": "execute_result"
    }
   ],
   "source": [
    "// Private\n",
    "class ChecksumAccumulator:\n",
    "  private var sum = 0"
   ]
  },
  {
   "cell_type": "code",
   "execution_count": 9,
   "id": "2274a671",
   "metadata": {},
   "outputs": [
    {
     "name": "stderr",
     "output_type": "stream",
     "text": [
      "    |val res9_1 = acc.sum = 5\n",
      "    |             ^^^^^^^\n",
      "    |value sum is not a member of object cmd9.this.cmd8.ChecksumAccumulator, but could be made available as an extension method.\n",
      "    |\n",
      "    |The following import might make progress towards fixing the problem:\n",
      "    |\n",
      "    |  import geny.Generator.from\n",
      "    |Compilation Failed"
     ]
    },
    {
     "ename": "",
     "evalue": "",
     "output_type": "error",
     "traceback": [
      "Compilation Failed"
     ]
    }
   ],
   "source": [
    "val acc = ChecksumAccumulator\n",
    "acc.sum = 5"
   ]
  },
  {
   "cell_type": "code",
   "execution_count": 10,
   "id": "4cb9337e",
   "metadata": {},
   "outputs": [
    {
     "data": {
      "text/plain": [
       "defined \u001b[32mclass\u001b[39m \u001b[36mChecksumAccumulator\u001b[39m"
      ]
     },
     "execution_count": 10,
     "metadata": {},
     "output_type": "execute_result"
    }
   ],
   "source": [
    "class ChecksumAccumulator:\n",
    "  private var sum = 0\n",
    "  def add(b: Byte): Unit =\n",
    "    sum += b\n",
    "  def checksum(): Int = \n",
    "    return ~(sum & 0xFF) + 1"
   ]
  },
  {
   "cell_type": "code",
   "execution_count": 11,
   "id": "b3f57b41",
   "metadata": {},
   "outputs": [
    {
     "data": {
      "text/plain": [
       "defined \u001b[32mclass\u001b[39m \u001b[36mChecksumAccumulator\u001b[39m"
      ]
     },
     "execution_count": 11,
     "metadata": {},
     "output_type": "execute_result"
    }
   ],
   "source": [
    "class ChecksumAccumulator:\n",
    "  private var sum = 0\n",
    "  def add(b: Byte): Unit = sum += b\n",
    "  def checksum(): Int = ~(sum & 0xFF) + 1"
   ]
  },
  {
   "cell_type": "markdown",
   "id": "18237e49",
   "metadata": {},
   "source": [
    "#### Semicolon inference"
   ]
  },
  {
   "cell_type": "code",
   "execution_count": 12,
   "id": "b1776bf7",
   "metadata": {},
   "outputs": [
    {
     "name": "stdout",
     "output_type": "stream",
     "text": [
      "hello\n"
     ]
    },
    {
     "data": {
      "text/plain": [
       "\u001b[36ms\u001b[39m: \u001b[32mString\u001b[39m = \u001b[32m\"hello\"\u001b[39m"
      ]
     },
     "execution_count": 12,
     "metadata": {},
     "output_type": "execute_result"
    }
   ],
   "source": [
    "val s = \"hello\"; println(s)"
   ]
  },
  {
   "cell_type": "markdown",
   "id": "25b92ae8",
   "metadata": {},
   "source": [
    "#### Singleton objects"
   ]
  },
  {
   "cell_type": "code",
   "execution_count": 13,
   "id": "d8cb7998",
   "metadata": {},
   "outputs": [
    {
     "data": {
      "text/plain": [
       "\u001b[32mimport \u001b[39m\u001b[36mscala.collection.mutable\n",
       "\n",
       "\u001b[39m\n",
       "defined \u001b[32mobject\u001b[39m \u001b[36mChecksumAccumulator\u001b[39m"
      ]
     },
     "execution_count": 13,
     "metadata": {},
     "output_type": "execute_result"
    }
   ],
   "source": [
    "import scala.collection.mutable\n",
    "\n",
    "object ChecksumAccumulator:\n",
    "  private val cache = mutable.Map.empty[String, Int]\n",
    "  def calculate(s: String): Int = \n",
    "    if cache.contains(s) then\n",
    "      cache(s)\n",
    "    else\n",
    "      val acc = new ChecksumAccumulator\n",
    "      for c <- s do\n",
    "        acc.add((c >> 8).toByte)\n",
    "        acc.add(c.toByte)\n",
    "      val cs = acc.checksum()\n",
    "      cache += (s -> cs)\n",
    "      cs"
   ]
  },
  {
   "cell_type": "code",
   "execution_count": null,
   "id": "87f03d10",
   "metadata": {},
   "outputs": [],
   "source": []
  }
 ],
 "metadata": {
  "kernelspec": {
   "display_name": "Scala",
   "language": "scala",
   "name": "scala"
  },
  "language_info": {
   "codemirror_mode": "text/x-scala",
   "file_extension": ".sc",
   "mimetype": "text/x-scala",
   "name": "scala",
   "nbconvert_exporter": "script",
   "version": "2.13.6"
  }
 },
 "nbformat": 4,
 "nbformat_minor": 5
}
